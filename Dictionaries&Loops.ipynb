{
  "nbformat": 4,
  "nbformat_minor": 0,
  "metadata": {
    "colab": {
      "provenance": []
    },
    "kernelspec": {
      "name": "python3",
      "display_name": "Python 3"
    },
    "language_info": {
      "name": "python"
    }
  },
  "cells": [
    {
      "cell_type": "markdown",
      "source": [
        "#**Dictionaries**"
      ],
      "metadata": {
        "id": "g3fyWLp4lOdh"
      }
    },
    {
      "cell_type": "markdown",
      "source": [
        "#**Dictionary Creation**"
      ],
      "metadata": {
        "id": "Z_kmdoVvlWQ3"
      }
    },
    {
      "cell_type": "code",
      "source": [
        "person={\n",
        "    \"name\":\"Alice Johnson\",\n",
        "    \"age\":23,\n",
        "    \"profession\":\"software engineer\",\n",
        "    \"salary\":75000,\n",
        "    \"skills\":[\"python\",\"JavaScript\",\"SQL\"]\n",
        "\n",
        "}"
      ],
      "metadata": {
        "id": "TxokW9arlXm4"
      },
      "execution_count": null,
      "outputs": []
    },
    {
      "cell_type": "markdown",
      "source": [
        "#**Accessing Values**"
      ],
      "metadata": {
        "id": "jOeyIh91ljQJ"
      }
    },
    {
      "cell_type": "code",
      "source": [
        "print(f\"Name:{person['name']}\")\n",
        "print(f\"Age:{person.get('age','unknown')}\")#safe access"
      ],
      "metadata": {
        "colab": {
          "base_uri": "https://localhost:8080/"
        },
        "id": "f_9r2-JilkTI",
        "outputId": "d81ab865-b33e-46a0-9254-9842413e189a"
      },
      "execution_count": null,
      "outputs": [
        {
          "output_type": "stream",
          "name": "stdout",
          "text": [
            "Name:Alice Johnson\n",
            "Age:23\n"
          ]
        }
      ]
    },
    {
      "cell_type": "markdown",
      "source": [
        "#**Dictionary Methods**"
      ],
      "metadata": {
        "id": "fSOg_-SGlygI"
      }
    },
    {
      "cell_type": "code",
      "source": [
        "print(f\"Keys:{list(person.keys())}\")\n",
        "print(f\"Values:{list(person.values())}\")\n",
        "print(f\"Items:{list(person.items())}\")"
      ],
      "metadata": {
        "colab": {
          "base_uri": "https://localhost:8080/"
        },
        "id": "Tsi-8Ggelz1w",
        "outputId": "3306c471-2aac-4357-baa9-3e0f50dd21fb"
      },
      "execution_count": null,
      "outputs": [
        {
          "output_type": "stream",
          "name": "stdout",
          "text": [
            "Keys:['name', 'age', 'profession', 'salary', 'skills']\n",
            "Values:['Alice Johnson', 23, 'software engineer', 75000, ['python', 'JavaScript', 'SQL']]\n",
            "Items:[('name', 'Alice Johnson'), ('age', 23), ('profession', 'software engineer'), ('salary', 75000), ('skills', ['python', 'JavaScript', 'SQL'])]\n"
          ]
        }
      ]
    },
    {
      "cell_type": "markdown",
      "source": [
        "#**Adding/Updating**"
      ],
      "metadata": {
        "id": "qLUugKJMl-b4"
      }
    },
    {
      "cell_type": "code",
      "source": [
        "person[\"location\"]=\"New York\"\n",
        "person[\"salary\"]=80000#update existing"
      ],
      "metadata": {
        "id": "Pn_KUhCMl_hw"
      },
      "execution_count": null,
      "outputs": []
    },
    {
      "cell_type": "markdown",
      "source": [
        "#**Practical use case:Inventory management**"
      ],
      "metadata": {
        "id": "JgJVnHLjmVIR"
      }
    },
    {
      "cell_type": "code",
      "source": [
        "inventory={\n",
        "    \"laptops\":{\n",
        "        \"quantity\":50,\n",
        "        \"price\":999.99\n",
        "\n",
        "    },\n",
        "    \"phones\":{\n",
        "    \"qunatity\":100,\n",
        "    \"price\":599.99\n",
        "    },\n",
        "    \"tablets\":{\n",
        "        \"quantity\":30,\n",
        "        \"price\":399.99\n",
        "    }\n",
        "\n",
        "}"
      ],
      "metadata": {
        "id": "vDlUHo3nmWfg"
      },
      "execution_count": null,
      "outputs": []
    },
    {
      "cell_type": "markdown",
      "source": [
        "#**Nested Access**"
      ],
      "metadata": {
        "id": "bNf0Hvqxmn_g"
      }
    },
    {
      "cell_type": "code",
      "source": [
        "print(f\"Laptop price:${inventory['laptops']['price']}\")"
      ],
      "metadata": {
        "colab": {
          "base_uri": "https://localhost:8080/"
        },
        "id": "BrRVsi6RmsEo",
        "outputId": "36d1f7f7-0ae5-4eb6-da98-f186e4526d6f"
      },
      "execution_count": null,
      "outputs": [
        {
          "output_type": "stream",
          "name": "stdout",
          "text": [
            "Laptop price:$999.99\n"
          ]
        }
      ]
    },
    {
      "cell_type": "markdown",
      "source": [
        "#**Sets**"
      ],
      "metadata": {
        "id": "-pWPIpP2myXo"
      }
    },
    {
      "cell_type": "markdown",
      "source": [
        "#**Sets Contain Unique element**"
      ],
      "metadata": {
        "id": "InauYyWlmzfo"
      }
    },
    {
      "cell_type": "code",
      "source": [
        "colors={\"red\",\"green\",\"blue\",\"red\"}#duplicte removed\n",
        "print(f\"colors:{colors}\")"
      ],
      "metadata": {
        "colab": {
          "base_uri": "https://localhost:8080/"
        },
        "id": "bKEX8_9tm4EI",
        "outputId": "4305efa0-dcbe-4b3a-a7df-edb6516bb82b"
      },
      "execution_count": null,
      "outputs": [
        {
          "output_type": "stream",
          "name": "stdout",
          "text": [
            "colors:{'red', 'blue', 'green'}\n"
          ]
        }
      ]
    },
    {
      "cell_type": "markdown",
      "source": [
        "#**Set Operation**"
      ],
      "metadata": {
        "id": "3YrVbs9cm9kB"
      }
    },
    {
      "cell_type": "code",
      "source": [
        "team1_skills={\"Python\",\"JavaScript\",\"SQL\",\"React\"}\n",
        "team2_skills={\"JavaScript\",\"SQL\",\"Java\",\"Spring\"}"
      ],
      "metadata": {
        "id": "edcBblEwnDGJ"
      },
      "execution_count": null,
      "outputs": []
    },
    {
      "cell_type": "markdown",
      "source": [],
      "metadata": {
        "id": "c7-gtG8vnF8x"
      }
    },
    {
      "cell_type": "markdown",
      "source": [
        "#**Common Operation**"
      ],
      "metadata": {
        "id": "dJZJMjHCnNkI"
      }
    },
    {
      "cell_type": "code",
      "source": [
        "print(f\"Common skills:{team1_skills.intersection(team2_skills)}\")\n",
        "print(f\"All skills:{team1_skills.union(team2_skills)}\")\n",
        "print(f\"Team1 only:{team1_skills.difference(team2_skills)}\")"
      ],
      "metadata": {
        "colab": {
          "base_uri": "https://localhost:8080/"
        },
        "id": "fMYLZRQGnQAw",
        "outputId": "038feb1c-7b5a-4d90-9616-45f15c39df91"
      },
      "execution_count": null,
      "outputs": [
        {
          "output_type": "stream",
          "name": "stdout",
          "text": [
            "Common skills:{'JavaScript', 'SQL'}\n",
            "All skills:{'Java', 'React', 'Python', 'JavaScript', 'SQL', 'Spring'}\n",
            "Team1 only:{'React', 'Python'}\n"
          ]
        }
      ]
    },
    {
      "cell_type": "markdown",
      "source": [
        "#**Adding to Sets**"
      ],
      "metadata": {
        "id": "2xlHaoWUnaYY"
      }
    },
    {
      "cell_type": "code",
      "source": [
        "colors.add(\"Yellow\")\n",
        "colors.update([\"purple\",\"orange\"])\n",
        "print(f\"Updated colors:{colors}\")"
      ],
      "metadata": {
        "colab": {
          "base_uri": "https://localhost:8080/"
        },
        "id": "MZojgaPJncIR",
        "outputId": "5f8c0276-471a-4476-d6f8-7cd023ae1e06"
      },
      "execution_count": null,
      "outputs": [
        {
          "output_type": "stream",
          "name": "stdout",
          "text": [
            "Updated colors:{'Yellow', 'blue', 'red', 'purple', 'orange', 'green'}\n"
          ]
        }
      ]
    },
    {
      "cell_type": "markdown",
      "source": [],
      "metadata": {
        "id": "M02HSz6rns9f"
      }
    },
    {
      "cell_type": "markdown",
      "source": [
        "#**Control Flow**"
      ],
      "metadata": {
        "id": "5acwrhvXNNtL"
      }
    },
    {
      "cell_type": "markdown",
      "source": [
        "#**Conditional Statements**"
      ],
      "metadata": {
        "id": "WdViCI1CPZ_y"
      }
    },
    {
      "cell_type": "markdown",
      "source": [
        "#**Basic if-else**"
      ],
      "metadata": {
        "id": "CTjKHusqOgkS"
      }
    },
    {
      "cell_type": "code",
      "source": [
        "def get_grade_letter(score):\n",
        "  if score>=90:\n",
        "    return \"A\"\n",
        "  elif score>=80:\n",
        "    return \"B\"\n",
        "  elif score>=70:\n",
        "    return \"C\"\n",
        "  elif score>=60:\n",
        "    return \"D\"\n",
        "  else:\n",
        "    return \"F\""
      ],
      "metadata": {
        "id": "Nw49JmWQOsSi"
      },
      "execution_count": null,
      "outputs": []
    },
    {
      "cell_type": "markdown",
      "source": [],
      "metadata": {
        "id": "A5f9MWcopa7Y"
      }
    },
    {
      "cell_type": "markdown",
      "source": [
        "#**Test the Function**"
      ],
      "metadata": {
        "id": "l8p7FC5NQRQx"
      }
    },
    {
      "cell_type": "code",
      "source": [],
      "metadata": {
        "id": "nfMo3ea1pe34"
      },
      "execution_count": null,
      "outputs": []
    },
    {
      "cell_type": "code",
      "source": [
        "test_scores=[95,83,72,65,58]\n",
        "for score in test_scores:\n",
        "  grade=get_grade_letter(score)\n",
        "  print(f\"Score{score}:Grade{grade}\")\n"
      ],
      "metadata": {
        "colab": {
          "base_uri": "https://localhost:8080/"
        },
        "id": "M7d4sX-EQWHi",
        "outputId": "d56267ad-b38e-454d-ad4f-65615cfb1c28"
      },
      "execution_count": null,
      "outputs": [
        {
          "output_type": "stream",
          "name": "stdout",
          "text": [
            "Score95:GradeA\n",
            "Score83:GradeB\n",
            "Score72:GradeC\n",
            "Score65:GradeD\n",
            "Score58:GradeF\n"
          ]
        }
      ]
    },
    {
      "cell_type": "markdown",
      "source": [],
      "metadata": {
        "id": "ZYI7VipYpkfo"
      }
    },
    {
      "cell_type": "markdown",
      "source": [
        "#**Nested conditions**"
      ],
      "metadata": {
        "id": "GxW0AT8oQ5AS"
      }
    },
    {
      "cell_type": "code",
      "source": [],
      "metadata": {
        "id": "lbzT_88zplzY"
      },
      "execution_count": null,
      "outputs": []
    },
    {
      "cell_type": "code",
      "source": [
        "def get_shipping_cost(weight,distance):\n",
        "  base_cost=5.0\n",
        "  if weight<=1:\n",
        "    weight_cost=2.0\n",
        "  elif weight<=5:\n",
        "    weight_cost=5.0\n",
        "  else:\n",
        "    weight_cost=10.0\n",
        "\n",
        "  if distance<=100:\n",
        "    distance_cost=1.0\n",
        "  elif distance<=500:\n",
        "    distance_cost=3.0\n",
        "  else:\n",
        "    distance_cost=7.0\n",
        "  return base_cost+weight_cost+distance_cost"
      ],
      "metadata": {
        "id": "vJvlRk3bQ9cp"
      },
      "execution_count": null,
      "outputs": []
    },
    {
      "cell_type": "markdown",
      "source": [],
      "metadata": {
        "id": "iXotcf58pspv"
      }
    },
    {
      "cell_type": "markdown",
      "source": [
        "#**Test Shipping cost**"
      ],
      "metadata": {
        "id": "BsN4J1txSVYK"
      }
    },
    {
      "cell_type": "code",
      "source": [],
      "metadata": {
        "id": "XkCzIhbQptzw"
      },
      "execution_count": null,
      "outputs": []
    },
    {
      "cell_type": "code",
      "source": [
        "print(f\"Light,close:${get_shipping_cost(0.5,50)}\")\n",
        "print(f\"Heavy,far:${get_shipping_cost(10,800)}\")"
      ],
      "metadata": {
        "colab": {
          "base_uri": "https://localhost:8080/"
        },
        "id": "jp0RpvsEScj6",
        "outputId": "fe4ba939-a82a-4120-bedc-f14b0376ee4c"
      },
      "execution_count": null,
      "outputs": [
        {
          "output_type": "stream",
          "name": "stdout",
          "text": [
            "Light,close:$8.0\n",
            "Heavy,far:$22.0\n"
          ]
        }
      ]
    },
    {
      "cell_type": "markdown",
      "source": [],
      "metadata": {
        "id": "k_-1y1qSp2Uo"
      }
    },
    {
      "cell_type": "markdown",
      "source": [
        "#**Loops-For Loop**"
      ],
      "metadata": {
        "id": "tT8BwrYdTKbi"
      }
    },
    {
      "cell_type": "markdown",
      "source": [
        "#**Basic for loop**"
      ],
      "metadata": {
        "id": "haAo2gpCUNN6"
      }
    },
    {
      "cell_type": "code",
      "source": [
        "fruits=[\"apple\",\"banana\",\"orange\",\"grape\"]\n",
        "for fruit in fruits:\n",
        "  print(f\"I like {fruit}\")"
      ],
      "metadata": {
        "colab": {
          "base_uri": "https://localhost:8080/"
        },
        "id": "g61eFsCDUTmi",
        "outputId": "c27e5d0b-22e6-41cf-d72b-99fd91b0d1ee"
      },
      "execution_count": null,
      "outputs": [
        {
          "output_type": "stream",
          "name": "stdout",
          "text": [
            "I like apple\n",
            "I like banana\n",
            "I like orange\n",
            "I like grape\n"
          ]
        }
      ]
    },
    {
      "cell_type": "markdown",
      "source": [
        "#**Loop With enumerate(get index)**"
      ],
      "metadata": {
        "id": "QUALs6vEWg7a"
      }
    },
    {
      "cell_type": "code",
      "source": [
        "for i,fruit in enumerate(fruits):\n",
        "  print(f\"{i+1}.{fruit}\")"
      ],
      "metadata": {
        "colab": {
          "base_uri": "https://localhost:8080/"
        },
        "id": "e8ibFjozW2bC",
        "outputId": "bde5c659-b9f3-4def-9652-1aca6634d127"
      },
      "execution_count": null,
      "outputs": [
        {
          "output_type": "stream",
          "name": "stdout",
          "text": [
            "1.apple\n",
            "2.banana\n",
            "3.orange\n",
            "4.grape\n"
          ]
        }
      ]
    },
    {
      "cell_type": "markdown",
      "source": [
        "#**Loop With Range**"
      ],
      "metadata": {
        "id": "5xZc2WA4XUSR"
      }
    },
    {
      "cell_type": "code",
      "source": [
        "for day in range(1,8):\n",
        "  print(f\"Day {day} of the week\")\n"
      ],
      "metadata": {
        "colab": {
          "base_uri": "https://localhost:8080/"
        },
        "id": "XpVfDNkwXaWB",
        "outputId": "9cd31c4f-8dbe-41b4-fc7c-be6ae520f300"
      },
      "execution_count": null,
      "outputs": [
        {
          "output_type": "stream",
          "name": "stdout",
          "text": [
            "Day 1 of the week\n",
            "Day 2 of the week\n",
            "Day 3 of the week\n",
            "Day 4 of the week\n",
            "Day 5 of the week\n",
            "Day 6 of the week\n",
            "Day 7 of the week\n"
          ]
        }
      ]
    },
    {
      "cell_type": "markdown",
      "source": [
        "#**Nested loops-Creating a Multiplication Table**"
      ],
      "metadata": {
        "id": "WcljcVIeYIVq"
      }
    },
    {
      "cell_type": "code",
      "source": [
        "print(\"Multiplication table:\")\n",
        "for i in range(1,6):\n",
        "  for j in range(1,6):\n",
        "    product=i*j\n",
        "    print(f\"{i}x{j}={product:2d}\",end=\" \")\n",
        "    print()#New line after each row"
      ],
      "metadata": {
        "colab": {
          "base_uri": "https://localhost:8080/"
        },
        "id": "a5cIF36HYUuC",
        "outputId": "dc099e2d-2449-4744-fd0c-cd2c6c5a6572"
      },
      "execution_count": null,
      "outputs": [
        {
          "output_type": "stream",
          "name": "stdout",
          "text": [
            "Multiplication table:\n",
            "1x1= 1 \n",
            "1x2= 2 \n",
            "1x3= 3 \n",
            "1x4= 4 \n",
            "1x5= 5 \n",
            "2x1= 2 \n",
            "2x2= 4 \n",
            "2x3= 6 \n",
            "2x4= 8 \n",
            "2x5=10 \n",
            "3x1= 3 \n",
            "3x2= 6 \n",
            "3x3= 9 \n",
            "3x4=12 \n",
            "3x5=15 \n",
            "4x1= 4 \n",
            "4x2= 8 \n",
            "4x3=12 \n",
            "4x4=16 \n",
            "4x5=20 \n",
            "5x1= 5 \n",
            "5x2=10 \n",
            "5x3=15 \n",
            "5x4=20 \n",
            "5x5=25 \n"
          ]
        }
      ]
    },
    {
      "cell_type": "markdown",
      "source": [
        "#**Processing data with loops**"
      ],
      "metadata": {
        "id": "xpmfd_6cZDL6"
      }
    },
    {
      "cell_type": "code",
      "source": [
        "sales_data=[\n",
        "{\"product\":\"Laptop\",\"price\":999,\"quantity\":5},\n",
        "{\"product\":\"Phone\",\"price\":599,\"quantity\":10},\n",
        "{\"product\":\"Tablet\",\"price\":399,\"quantity\":8},\n",
        "]\n",
        "\n",
        "total_revenue=0\n",
        "\n",
        "for item in sales_data:\n",
        "  item_revenue=item[\"price\"]*item[\"quantity\"]\n",
        "  total_revenue+=item_revenue\n",
        "  print(f\"{item['product']}:${item_revenue}\")\n",
        "print(f\"Total revenue: ${total_revenue}\")"
      ],
      "metadata": {
        "colab": {
          "base_uri": "https://localhost:8080/"
        },
        "id": "JbPhQC74ZKmi",
        "outputId": "acec1bfc-62cc-4c80-bddb-733cfdd9f365"
      },
      "execution_count": null,
      "outputs": [
        {
          "output_type": "stream",
          "name": "stdout",
          "text": [
            "Laptop:$4995\n",
            "Phone:$5990\n",
            "Tablet:$3192\n",
            "Total revenue: $14177\n"
          ]
        }
      ]
    },
    {
      "cell_type": "markdown",
      "source": [
        "#**Loops-while Loop**"
      ],
      "metadata": {
        "id": "6WhC3WBRo8wJ"
      }
    },
    {
      "cell_type": "markdown",
      "source": [
        "#**while loop for user simulation**"
      ],
      "metadata": {
        "id": "4kSy6TlgsU-q"
      }
    },
    {
      "cell_type": "code",
      "source": [
        "def simple_guessing_game():\n",
        "  target=7\n",
        "  guess=0\n",
        "  attempts=0\n",
        "  print(\"guess the number between 1 and 10\")\n",
        "\n",
        "  while guess!=target:\n",
        "\n",
        "    #simulate user input\n",
        "    import random\n",
        "    guess=random.randint(1,10)\n",
        "    attempts +=1\n",
        "\n",
        "    if guess < target:\n",
        "      print(f\"Guess {attempts}:{guess} - Too low!\")\n",
        "    elif guess > target:\n",
        "      print(f\"Guess{attempts}:{guess} - Too high!\")\n",
        "    else:\n",
        "      print(f\"Guess {attempts}:{guess} - correct\")\n",
        "\n",
        "    #safety check\n",
        "    if attempts > 10:\n",
        "      print(\"Max attempts reached!\")\n",
        "      break\n",
        "  print(f\"Game finished in {attempts} attempts\")\n",
        "\n",
        "simple_guessing_game()\n",
        "\n"
      ],
      "metadata": {
        "colab": {
          "base_uri": "https://localhost:8080/"
        },
        "id": "_cRzyAA_sdXx",
        "outputId": "b267cec8-1ed1-4827-9f65-dab220f9fe6e"
      },
      "execution_count": null,
      "outputs": [
        {
          "output_type": "stream",
          "name": "stdout",
          "text": [
            "guess the number between 1 and 10\n",
            "Guess1:8 - Too high!\n",
            "Guess2:9 - Too high!\n",
            "Guess3:10 - Too high!\n",
            "Guess 4:4 - Too low!\n",
            "Guess5:8 - Too high!\n",
            "Guess6:9 - Too high!\n",
            "Guess 7:5 - Too low!\n",
            "Guess 8:7 - correct\n",
            "Game finished in 8 attempts\n"
          ]
        }
      ]
    },
    {
      "cell_type": "markdown",
      "source": [
        "#**While Lopp for Processing**"
      ],
      "metadata": {
        "id": "Dq3bkPXHyvyR"
      }
    },
    {
      "cell_type": "code",
      "source": [
        "def process_queue():\n",
        "  queue = [\"Task1\", \"Task2\", \"Task3\", \"Task4\"]\n",
        "\n",
        "  while queue:\n",
        "    current_task = queue.pop(0) #remove first item\n",
        "    print(f\"Processing: {current_task}\")\n",
        "\n",
        "    print(f\"Rmaining tasks: {len(queue)}\")\n",
        "  print(\"All tasks completed\")\n",
        "process_queue()\n",
        "\n"
      ],
      "metadata": {
        "colab": {
          "base_uri": "https://localhost:8080/"
        },
        "id": "AJem474-y38Q",
        "outputId": "4f7a2081-0226-45bc-f4cc-a4fc4e7c3130"
      },
      "execution_count": null,
      "outputs": [
        {
          "output_type": "stream",
          "name": "stdout",
          "text": [
            "Processing: Task1\n",
            "Rmaining tasks: 3\n",
            "Processing: Task2\n",
            "Rmaining tasks: 2\n",
            "Processing: Task3\n",
            "Rmaining tasks: 1\n",
            "Processing: Task4\n",
            "Rmaining tasks: 0\n",
            "All tasks completed\n"
          ]
        }
      ]
    },
    {
      "cell_type": "markdown",
      "source": [
        "#**Functions**"
      ],
      "metadata": {
        "id": "DDl1dmLk1Gmp"
      }
    },
    {
      "cell_type": "markdown",
      "source": [
        "#**Basics Functions Definition**"
      ],
      "metadata": {
        "id": "0-glugfH1LbQ"
      }
    },
    {
      "cell_type": "code",
      "source": [
        "def greet(name):\n",
        "  return f\"Hello, {name}!\""
      ],
      "metadata": {
        "id": "TOsRQWqT1gm5"
      },
      "execution_count": null,
      "outputs": []
    },
    {
      "cell_type": "markdown",
      "source": [
        "#**Function Call**"
      ],
      "metadata": {
        "id": "6Eab9BK-1pk4"
      }
    },
    {
      "cell_type": "code",
      "source": [
        "message=greet(\"Python Programmer\")\n",
        "print(message)"
      ],
      "metadata": {
        "colab": {
          "base_uri": "https://localhost:8080/"
        },
        "id": "-DyJ6Cpg1wWA",
        "outputId": "cbb7c396-8ad3-43b1-e9e6-f7429966381e"
      },
      "execution_count": null,
      "outputs": [
        {
          "output_type": "stream",
          "name": "stdout",
          "text": [
            "Hello, Python Programmer!\n"
          ]
        }
      ]
    },
    {
      "cell_type": "markdown",
      "source": [
        "#**Function With Multiple parameter**"
      ],
      "metadata": {
        "id": "JkXiujv-1-Dg"
      }
    },
    {
      "cell_type": "code",
      "source": [
        "def calculate_area(length,width):\n",
        "  area=length * width\n",
        "  return area"
      ],
      "metadata": {
        "id": "JUUN_7uQ2F-A"
      },
      "execution_count": null,
      "outputs": []
    },
    {
      "cell_type": "markdown",
      "source": [
        "#**Test the Function**"
      ],
      "metadata": {
        "id": "yvWD0Ail2Qh6"
      }
    },
    {
      "cell_type": "code",
      "source": [
        "room_area = calculate_area(12,10)\n",
        "print(f\"Room area: {room_area} square feet\")"
      ],
      "metadata": {
        "colab": {
          "base_uri": "https://localhost:8080/"
        },
        "id": "yhHbjCsp2VQQ",
        "outputId": "1de2e7ef-031f-48a5-c19b-d1f7e9ceafe2"
      },
      "execution_count": null,
      "outputs": [
        {
          "output_type": "stream",
          "name": "stdout",
          "text": [
            "Room area: 120 square feet\n"
          ]
        }
      ]
    },
    {
      "cell_type": "markdown",
      "source": [
        "#**Function With Default Parameter**"
      ],
      "metadata": {
        "id": "mLE8lev-2r7o"
      }
    },
    {
      "cell_type": "code",
      "source": [
        "def create_user_profile(name,age=18, location=\"Unknown\",active=True):\n",
        "  return {\n",
        "      \"name\": name,\n",
        "      \"age\": age,\n",
        "      \"location\": location,\n",
        "      \"active\": active\n",
        "  }"
      ],
      "metadata": {
        "id": "nsHKGpf43fHg"
      },
      "execution_count": null,
      "outputs": []
    },
    {
      "cell_type": "markdown",
      "source": [
        "#**Different Ways To Call**"
      ],
      "metadata": {
        "id": "rnAuynn44ieA"
      }
    },
    {
      "cell_type": "code",
      "source": [
        "profile1=create_user_profile(\"Alice\")#use defaults\n",
        "profile2=create_user_profile(\"Bob\",25)#Override age\n",
        "profile3=create_user_profile(\"Charlie\",location=\"New York\",age=30)#Named parameters\n",
        "print(f\"Profile 1: {profile1}\")\n",
        "print(f\"Profile 2: {profile2}\")\n",
        "print(f\"Profile 3: {profile3}\")"
      ],
      "metadata": {
        "colab": {
          "base_uri": "https://localhost:8080/"
        },
        "id": "VRKG0GbP4nno",
        "outputId": "fa0db512-ee9a-4155-a6f8-fc2c87f96346"
      },
      "execution_count": null,
      "outputs": [
        {
          "output_type": "stream",
          "name": "stdout",
          "text": [
            "Profile 1: {'name': 'Alice', 'age': 18, 'location': 'Unknown', 'active': True}\n",
            "Profile 2: {'name': 'Bob', 'age': 25, 'location': 'Unknown', 'active': True}\n",
            "Profile 3: {'name': 'Charlie', 'age': 30, 'location': 'New York', 'active': True}\n"
          ]
        }
      ]
    },
    {
      "cell_type": "markdown",
      "source": [
        "#**Advanced Function Concepts**"
      ],
      "metadata": {
        "id": "A5DBvge66HJZ"
      }
    },
    {
      "cell_type": "markdown",
      "source": [
        "#**Function Returning Multiple Values**"
      ],
      "metadata": {
        "id": "OmxEkhbO7KIY"
      }
    },
    {
      "cell_type": "code",
      "source": [
        "def analyze_text(text):\n",
        "  words=text.split()\n",
        "  word_count =len(words)\n",
        "  char_count =len(text)\n",
        "  char_count_no_space = len(text.replace(\" \",\"\"))\n",
        "\n",
        "  return word_count, char_count, char_count_no_space"
      ],
      "metadata": {
        "id": "ozdCr3CI7Vq3"
      },
      "execution_count": null,
      "outputs": []
    },
    {
      "cell_type": "markdown",
      "source": [
        "#**Test With Sample Text**"
      ],
      "metadata": {
        "id": "12jVNJSX8Ozw"
      }
    },
    {
      "cell_type": "code",
      "source": [
        "sample_text=\"Python is a powerful programming language\"\n",
        "words,chars,chars_no_space =analyze_text(sample_text)\n",
        "\n",
        "print(f\"Text:'{sample_text}'\")\n",
        "print(f\"Word count:{words}\")\n",
        "print(f\"Character count:{chars}\")\n",
        "print(f\"Char(no spaces): {chars_no_space}\")"
      ],
      "metadata": {
        "colab": {
          "base_uri": "https://localhost:8080/"
        },
        "id": "GL0TLtmO8emw",
        "outputId": "68d3bcdc-fe9f-4e47-83a8-8e40d625c496"
      },
      "execution_count": null,
      "outputs": [
        {
          "output_type": "stream",
          "name": "stdout",
          "text": [
            "Text:'Python is a powerful programming language'\n",
            "Word count:6\n",
            "Character count:41\n",
            "Char(no spaces): 36\n"
          ]
        }
      ]
    },
    {
      "cell_type": "markdown",
      "source": [
        "#**Variable-length arguments**"
      ],
      "metadata": {
        "id": "jzjbhRL7_m8g"
      }
    },
    {
      "cell_type": "code",
      "source": [
        "def calculate_average(*numbers):\n",
        "  if not numbers:\n",
        "    return 0\n",
        "\n",
        "  return sum(numbers) /len(numbers)"
      ],
      "metadata": {
        "id": "FZFM9QtZ_1Qw"
      },
      "execution_count": null,
      "outputs": []
    },
    {
      "cell_type": "markdown",
      "source": [
        "#**Test with Different numbers of arguments**"
      ],
      "metadata": {
        "id": "lBdwNp9CAJHA"
      }
    },
    {
      "cell_type": "code",
      "source": [
        "avg1=calculate_average(10,20,30)\n",
        "avg2=calculate_average(5,15,25,35,45)\n",
        "avg3=calculate_average(100)\n",
        "\n",
        "print(f\"Average of 10,20,30:{avg1}\")\n",
        "print(f\"Average of 5,15,25,35,45:{avg2}\")\n",
        "print(f\"Average of 100:{avg3}\")\n"
      ],
      "metadata": {
        "colab": {
          "base_uri": "https://localhost:8080/"
        },
        "id": "XeYSFDK5APi4",
        "outputId": "a030a146-f05d-4a39-bfc9-7f9f77504136"
      },
      "execution_count": null,
      "outputs": [
        {
          "output_type": "stream",
          "name": "stdout",
          "text": [
            "Average of 10,20,30:20.0\n",
            "Average of 5,15,25,35,45:25.0\n",
            "Average of 100:100.0\n"
          ]
        }
      ]
    },
    {
      "cell_type": "markdown",
      "source": [
        "#**KeyWord Arguments**"
      ],
      "metadata": {
        "id": "TsOOTdwkBR6v"
      }
    },
    {
      "cell_type": "code",
      "source": [
        "def create_report(**data):\n",
        "  print(\"=== REPORT ===\")\n",
        "\n",
        "  for key,value in data.items():\n",
        "    print(f\"{key.replace('_',' ').title()}:{value}\")\n",
        "\n",
        "  print(\"===========\")\n",
        "\n",
        "create_report(\n",
        "    title=\"Monthly sales Report\",\n",
        "    date=\"2024-01-01\",\n",
        "    total_sales=15000,\n",
        "    new_customers=25,\n",
        "    returning_customers=150\n",
        ")"
      ],
      "metadata": {
        "colab": {
          "base_uri": "https://localhost:8080/"
        },
        "id": "PFgKeAUcBZYh",
        "outputId": "87ae5c09-7193-47bf-acd6-e1fd73307443"
      },
      "execution_count": null,
      "outputs": [
        {
          "output_type": "stream",
          "name": "stdout",
          "text": [
            "=== REPORT ===\n",
            "Title:Monthly sales Report\n",
            "Date:2024-01-01\n",
            "Total Sales:15000\n",
            "New Customers:25\n",
            "Returning Customers:150\n",
            "===========\n"
          ]
        }
      ]
    },
    {
      "cell_type": "markdown",
      "source": [
        "#**Lambda Functions**"
      ],
      "metadata": {
        "id": "5wcje2UdFTCn"
      }
    },
    {
      "cell_type": "markdown",
      "source": [
        "#**Lambda Functions(anonymous functions)**"
      ],
      "metadata": {
        "id": "Bzsyud6wFb03"
      }
    },
    {
      "cell_type": "markdown",
      "source": [
        "#**Regular function**"
      ],
      "metadata": {
        "id": "oI4qAM6lFktn"
      }
    },
    {
      "cell_type": "code",
      "source": [
        "def square(x):\n",
        "  return x**2"
      ],
      "metadata": {
        "id": "XWzheUqgFrs4"
      },
      "execution_count": null,
      "outputs": []
    },
    {
      "cell_type": "markdown",
      "source": [
        "#**Lambda Equivalent**"
      ],
      "metadata": {
        "id": "XYbhJGOGFxWP"
      }
    },
    {
      "cell_type": "code",
      "source": [
        "square_lambda=lambda x:x**2\n",
        "print(f\"Regular function: {square(5)}\")\n",
        "print(f\"Lambda function: {square_lambda(5)}\")"
      ],
      "metadata": {
        "colab": {
          "base_uri": "https://localhost:8080/"
        },
        "id": "U5QqZdinF2u3",
        "outputId": "65da8468-71b0-4998-a242-b38ee61fc73a"
      },
      "execution_count": null,
      "outputs": [
        {
          "output_type": "stream",
          "name": "stdout",
          "text": [
            "Regular function: 25\n",
            "Lambda function: 25\n"
          ]
        }
      ]
    },
    {
      "cell_type": "markdown",
      "source": [
        "#**Lambda With Multiple Arguments**"
      ],
      "metadata": {
        "id": "GNGS905-G8t3"
      }
    },
    {
      "cell_type": "code",
      "source": [
        "multiply = lambda x, y: x * y\n",
        "print(f\"Multiply: {multiply(3,4)}\")"
      ],
      "metadata": {
        "colab": {
          "base_uri": "https://localhost:8080/"
        },
        "id": "n8WSr-ASHK_w",
        "outputId": "2b2c4652-a68e-4571-dc8e-fcf3681876af"
      },
      "execution_count": null,
      "outputs": [
        {
          "output_type": "stream",
          "name": "stdout",
          "text": [
            "Multiply: 12\n"
          ]
        }
      ]
    },
    {
      "cell_type": "markdown",
      "source": [
        "#**Lambda With Built-in Functions**"
      ],
      "metadata": {
        "id": "WTlONIZVHcfo"
      }
    },
    {
      "cell_type": "code",
      "source": [
        "numbers=[1,2,3,4,5]\n",
        "squared=list(map(lambda x: x**2,numbers))\n",
        "print(f\"Squared numbers: {squared}\")"
      ],
      "metadata": {
        "colab": {
          "base_uri": "https://localhost:8080/"
        },
        "id": "S961xlUqHlHO",
        "outputId": "0d1796a7-bfa6-4432-aeab-e447b9436048"
      },
      "execution_count": null,
      "outputs": [
        {
          "output_type": "stream",
          "name": "stdout",
          "text": [
            "Squared numbers: [1, 4, 9, 16, 25]\n"
          ]
        }
      ]
    },
    {
      "cell_type": "markdown",
      "source": [
        "#**Filtering With Lambda**"
      ],
      "metadata": {
        "id": "53fSXvLrH4wP"
      }
    },
    {
      "cell_type": "code",
      "source": [
        "ages=[16,21,35,12,45,18,67]\n",
        "adults=list(filter(lambda age: age >=18,ages))\n",
        "print(f\"Adult ages: {adults}\")"
      ],
      "metadata": {
        "colab": {
          "base_uri": "https://localhost:8080/"
        },
        "id": "ubjKSUJsH-Fn",
        "outputId": "01a4da5a-5bc4-499f-acca-fed6d6cc9104"
      },
      "execution_count": null,
      "outputs": [
        {
          "output_type": "stream",
          "name": "stdout",
          "text": [
            "Adult ages: [21, 35, 45, 18, 67]\n"
          ]
        }
      ]
    },
    {
      "cell_type": "markdown",
      "source": [
        "#**Sorting With Lambda**"
      ],
      "metadata": {
        "id": "m3VjDhMSIt3I"
      }
    },
    {
      "cell_type": "code",
      "source": [
        "people=[\n",
        "     {\"name\":\"Alice\",\"age\":30},\n",
        "     {\"name\":\"Bob\",\"age\":25},\n",
        "     {\"name\":\"Charlie\",\"age\":35}\n",
        "]\n",
        "sorted_people=sorted(\n",
        "    people,\n",
        "    key=lambda person: person[\"age\"]\n",
        ")\n",
        "print(\"people sorted by age\")\n",
        "\n",
        "for person in sorted_people:\n",
        "    print(f\" {person['name']}: {person['age']}\")\n",
        "\n"
      ],
      "metadata": {
        "colab": {
          "base_uri": "https://localhost:8080/"
        },
        "id": "eO6io0NeIyx-",
        "outputId": "3b28e7cf-0439-4746-fcaa-8368697ae0e0"
      },
      "execution_count": null,
      "outputs": [
        {
          "output_type": "stream",
          "name": "stdout",
          "text": [
            "people sorted by age\n",
            " Bob: 25\n",
            " Alice: 30\n",
            " Charlie: 35\n"
          ]
        }
      ]
    }
  ]
}