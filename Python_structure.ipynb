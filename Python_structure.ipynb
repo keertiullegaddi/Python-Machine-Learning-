{
  "nbformat": 4,
  "nbformat_minor": 0,
  "metadata": {
    "colab": {
      "provenance": [],
      "collapsed_sections": [
        "03mnEMVys4QI"
      ]
    },
    "kernelspec": {
      "name": "python3",
      "display_name": "Python 3"
    },
    "language_info": {
      "name": "python"
    }
  },
  "cells": [
    {
      "cell_type": "code",
      "source": [
        "name=\"keerti\"\n",
        "print(f\"my name is {name}\")"
      ],
      "metadata": {
        "colab": {
          "base_uri": "https://localhost:8080/"
        },
        "id": "XXjAL5Zl-RZP",
        "outputId": "b6d1df3a-abad-42f9-d950-5d123b38b2ce"
      },
      "execution_count": null,
      "outputs": [
        {
          "output_type": "stream",
          "name": "stdout",
          "text": [
            "my name is keerti\n"
          ]
        }
      ]
    },
    {
      "cell_type": "code",
      "source": [
        "a=\"anu\"\n",
        "print(\"my name is:\",name)"
      ],
      "metadata": {
        "colab": {
          "base_uri": "https://localhost:8080/"
        },
        "id": "vB_SmKCNABhW",
        "outputId": "5176bd60-8dd3-4853-b045-f2f3a74e27d9"
      },
      "execution_count": null,
      "outputs": [
        {
          "output_type": "stream",
          "name": "stdout",
          "text": [
            "my name is: keerti\n"
          ]
        }
      ]
    },
    {
      "cell_type": "markdown",
      "source": [
        "#**python syntax and structure**"
      ],
      "metadata": {
        "id": "3i14kQSDgWb_"
      }
    },
    {
      "cell_type": "markdown",
      "source": [
        "Basic syntax rules"
      ],
      "metadata": {
        "id": "ECAA8MmjGSbe"
      }
    },
    {
      "cell_type": "code",
      "source": [
        "print(\"Hello,World!\")#Function call\n",
        "x=5#Variable assignment\n",
        "y=10#no need to declare type"
      ],
      "metadata": {
        "colab": {
          "base_uri": "https://localhost:8080/"
        },
        "id": "41zoUJppGsRG",
        "outputId": "e1d16c0f-286d-48b2-8bd5-3d19fe293c32"
      },
      "execution_count": null,
      "outputs": [
        {
          "output_type": "stream",
          "name": "stdout",
          "text": [
            "Hello,World!\n"
          ]
        }
      ]
    },
    {
      "cell_type": "markdown",
      "source": [],
      "metadata": {
        "id": "NhOLME-wHIue"
      }
    },
    {
      "cell_type": "markdown",
      "source": [
        "#**Python is case sensitive**"
      ],
      "metadata": {
        "id": "ib3ZhKxJHd9H"
      }
    },
    {
      "cell_type": "code",
      "source": [
        "Name=\"josna\"\n",
        "name=\"josna\"\n",
        "print(Name,name)"
      ],
      "metadata": {
        "colab": {
          "base_uri": "https://localhost:8080/"
        },
        "id": "zQ_1aGS-Hm9F",
        "outputId": "30821f5b-709f-4817-afae-8fbcefac9d68"
      },
      "execution_count": null,
      "outputs": [
        {
          "output_type": "stream",
          "name": "stdout",
          "text": [
            "josna josna\n"
          ]
        }
      ]
    },
    {
      "cell_type": "markdown",
      "source": [
        "**Identation matters**"
      ],
      "metadata": {
        "id": "4OjJl22TIWjf"
      }
    },
    {
      "cell_type": "code",
      "source": [
        "if x>0:\n",
        "  print(\"x is positive\")#4 spaces identation\n",
        "  print(\"this is inside if block\")"
      ],
      "metadata": {
        "colab": {
          "base_uri": "https://localhost:8080/"
        },
        "id": "piw9TEdTIcPm",
        "outputId": "a43727a7-7af0-4d8c-98de-98f84847ceb0"
      },
      "execution_count": null,
      "outputs": [
        {
          "output_type": "stream",
          "name": "stdout",
          "text": [
            "x is positive\n",
            "this is inside if block\n"
          ]
        }
      ]
    },
    {
      "cell_type": "markdown",
      "source": [
        "#**Variables and data types**"
      ],
      "metadata": {
        "id": "4ewbMIA4I2T3"
      }
    },
    {
      "cell_type": "markdown",
      "source": [
        "#**Numeric types**"
      ],
      "metadata": {
        "id": "nDBHo-XVJ_wV"
      }
    },
    {
      "cell_type": "code",
      "source": [
        "age=25#int\n",
        "height=5.9#float\n",
        "complex_num=3+4j#complex"
      ],
      "metadata": {
        "id": "c10Pk3_DKHRP"
      },
      "execution_count": null,
      "outputs": []
    },
    {
      "cell_type": "markdown",
      "source": [
        "#**String types**"
      ],
      "metadata": {
        "id": "hGFxVuliKZFm"
      }
    },
    {
      "cell_type": "code",
      "source": [
        "name=\"Anu\"\n",
        "message='Hello world'\n",
        "multiline=\"\"\"this is a multiline string\"\"\""
      ],
      "metadata": {
        "id": "hNefz554KfyO"
      },
      "execution_count": null,
      "outputs": []
    },
    {
      "cell_type": "markdown",
      "source": [
        "#**Boolean Types**"
      ],
      "metadata": {
        "id": "gdBiqcUlNJQe"
      }
    },
    {
      "cell_type": "code",
      "source": [
        "is_active=True\n",
        "is_finished=False"
      ],
      "metadata": {
        "id": "hqhmjlAkNPnO"
      },
      "execution_count": null,
      "outputs": []
    },
    {
      "cell_type": "markdown",
      "source": [
        "#**Type checking**"
      ],
      "metadata": {
        "id": "jk8v1hplNZLO"
      }
    },
    {
      "cell_type": "code",
      "source": [
        "print(type(age))# <class 'int'>\n",
        "print(type(height)) # <class 'float'>\n",
        "print(type(name)) # <class 'str'>"
      ],
      "metadata": {
        "colab": {
          "base_uri": "https://localhost:8080/"
        },
        "id": "ZUa67bRzNeTG",
        "outputId": "04da8693-9133-4d34-9de1-0efe043e9363"
      },
      "execution_count": null,
      "outputs": [
        {
          "output_type": "stream",
          "name": "stdout",
          "text": [
            "<class 'int'>\n",
            "<class 'float'>\n",
            "<class 'str'>\n"
          ]
        }
      ]
    },
    {
      "cell_type": "code",
      "source": [
        "type(age)"
      ],
      "metadata": {
        "colab": {
          "base_uri": "https://localhost:8080/"
        },
        "id": "OJrW2q0QN99u",
        "outputId": "29097b02-153f-4911-8bd7-26e846809d20"
      },
      "execution_count": null,
      "outputs": [
        {
          "output_type": "execute_result",
          "data": {
            "text/plain": [
              "int"
            ]
          },
          "metadata": {},
          "execution_count": 10
        }
      ]
    },
    {
      "cell_type": "markdown",
      "source": [
        "#**Type Conversion**"
      ],
      "metadata": {
        "id": "0pMiTWVxOCtG"
      }
    },
    {
      "cell_type": "code",
      "source": [
        "str_number=\"123\"\n",
        "int_number=int(str_number)\n",
        "float_number=float(str_number)\n",
        "print(f\"Original:{str_number} (type: {type(str_number)})\")\n",
        "print(f\"Integer:{int_number} (type: {type(int_number)})\")\n",
        "print(f\"Float:{float_number} (type: {type(float_number)})\")"
      ],
      "metadata": {
        "colab": {
          "base_uri": "https://localhost:8080/"
        },
        "id": "j5bFwNb3OTlu",
        "outputId": "bef440de-f0bf-4858-fa47-41b7d5019f43"
      },
      "execution_count": null,
      "outputs": [
        {
          "output_type": "stream",
          "name": "stdout",
          "text": [
            "Original:123 (type: <class 'str'>)\n",
            "Integer:123 (type: <class 'int'>)\n",
            "Float:123.0 (type: <class 'float'>)\n"
          ]
        }
      ]
    },
    {
      "cell_type": "markdown",
      "source": [
        "#**Hands On Exercise**"
      ],
      "metadata": {
        "id": "vE7Tn3kXhKeY"
      }
    },
    {
      "cell_type": "markdown",
      "source": [
        "#**Exercise 1:Personal Information**"
      ],
      "metadata": {
        "id": "mTG1PiR-hVzH"
      }
    },
    {
      "cell_type": "markdown",
      "source": [
        "create variables for personal information"
      ],
      "metadata": {
        "id": "ccMJZwufiBFo"
      }
    },
    {
      "cell_type": "code",
      "source": [
        "first_name=\"keerti\"\n",
        "last_name=\"Ullegaddi\"\n",
        "age=20\n",
        "height=5.5\n",
        "is_student=True"
      ],
      "metadata": {
        "id": "eHEMch_3iIgP"
      },
      "execution_count": null,
      "outputs": []
    },
    {
      "cell_type": "markdown",
      "source": [
        "#**print formatted information**"
      ],
      "metadata": {
        "id": "FbD1f7feiihn"
      }
    },
    {
      "cell_type": "code",
      "source": [
        "print(f\"Name: {first_name} {last_name}\")\n",
        "print(f\"Age: {age}\")\n",
        "print(f\"Height:{height} feet\")\n",
        "print(f\"Student: {is_student}\")"
      ],
      "metadata": {
        "colab": {
          "base_uri": "https://localhost:8080/"
        },
        "id": "_QbWu7VfismY",
        "outputId": "488e694d-2339-4f7b-fc35-37a093c1c2bd"
      },
      "execution_count": null,
      "outputs": [
        {
          "output_type": "stream",
          "name": "stdout",
          "text": [
            "Name: keerti Ullegaddi\n",
            "Age: 20\n",
            "Height:5.5 feet\n",
            "Student: True\n"
          ]
        }
      ]
    },
    {
      "cell_type": "markdown",
      "source": [
        "#**Type conversion**"
      ],
      "metadata": {
        "id": "RzJ-46F2j_WY"
      }
    },
    {
      "cell_type": "code",
      "source": [
        "age_str=str(age)\n",
        "height_int=int(height)\n",
        "print(f\"Age as string: {age_str}\")\n",
        "print(f\"Height as integer: {height_int}\")"
      ],
      "metadata": {
        "colab": {
          "base_uri": "https://localhost:8080/"
        },
        "id": "M8RgUa5NkRK_",
        "outputId": "9b6a30a4-776e-4a82-9e99-4e9f890bf2b9"
      },
      "execution_count": null,
      "outputs": [
        {
          "output_type": "stream",
          "name": "stdout",
          "text": [
            "Age as string: 20\n",
            "Height as integer: 5\n"
          ]
        }
      ]
    },
    {
      "cell_type": "markdown",
      "source": [
        "#**Operators and Basic Operations**"
      ],
      "metadata": {
        "id": "tCqWNbqRknuH"
      }
    },
    {
      "cell_type": "markdown",
      "source": [
        "#**arithmetic operator**"
      ],
      "metadata": {
        "id": "8Q-m81iRmRn-"
      }
    },
    {
      "cell_type": "code",
      "source": [
        "a=10\n",
        "b=3\n",
        "print(\"addition:\",(a+b))\n",
        "print(\"subtraction:\",(a-b))\n",
        "print(\"multiply:\",(a*b))\n",
        "print(\"divide:\",(a/b))\n",
        "print(\"Floor Division\",a//b)\n",
        "print(\"Modulus\",a%b)\n",
        "print(\"Exponentiation\",(a**b))"
      ],
      "metadata": {
        "colab": {
          "base_uri": "https://localhost:8080/"
        },
        "id": "iNLbfI-vmqyv",
        "outputId": "b5ef1791-4304-4837-ea2c-67cc3b4fd0a7"
      },
      "execution_count": null,
      "outputs": [
        {
          "output_type": "stream",
          "name": "stdout",
          "text": [
            "addition: 13\n",
            "subtraction: 7\n",
            "multiply: 30\n",
            "divide: 3.3333333333333335\n",
            "Floor Division 3\n",
            "Modulus 1\n",
            "Exponentiation 1000\n"
          ]
        }
      ]
    },
    {
      "cell_type": "markdown",
      "source": [
        "#**Order Of Operations(PEMDAS)**"
      ],
      "metadata": {
        "id": "QQkT33oUnmOX"
      }
    },
    {
      "cell_type": "markdown",
      "source": [
        "\n",
        "\n",
        "*  **P-Parentheses**\n",
        "*   **E-Exponents**\n",
        "\n",
        "\n",
        "*   **M-Multiplication**\n",
        "*   **D-Division**\n",
        "\n",
        "\n",
        "*  **A-Addition**\n",
        "*  **S-subtraction**\n",
        "\n",
        "\n"
      ],
      "metadata": {
        "id": "wxaC_gkzosQv"
      }
    },
    {
      "cell_type": "code",
      "source": [
        "result=2+3*4**2-1\n",
        "print(f\"2+3+4**2-1={result}\")"
      ],
      "metadata": {
        "colab": {
          "base_uri": "https://localhost:8080/"
        },
        "id": "m4W2VemophU3",
        "outputId": "bf5debaf-7d6e-4eea-98d3-1c1bea71fef9"
      },
      "execution_count": null,
      "outputs": [
        {
          "output_type": "stream",
          "name": "stdout",
          "text": [
            "2+3+4**2-1=49\n"
          ]
        }
      ]
    },
    {
      "cell_type": "markdown",
      "source": [
        "#**Relational Operator**"
      ],
      "metadata": {
        "id": "03mnEMVys4QI"
      }
    },
    {
      "cell_type": "code",
      "source": [
        "x=5\n",
        "y=10\n",
        "print(f\"{x}=={y}:{x==y}\")#equal to\n",
        "print(f\"{x}!={y}:{x==y}\")#Not equal to\n",
        "print(f\"{x}<{y}:{x<y}\")#less than\n",
        "print(f\"{x}>{y}:{x>y}\")#greater than\n",
        "print(f\"{x}<={y}:{x<=y}\")#less than or equal\n",
        "print(f\"{x}>{y}:{x>=y}\")#greater than or equal"
      ],
      "metadata": {
        "colab": {
          "base_uri": "https://localhost:8080/"
        },
        "id": "j_m5_m0ss_QI",
        "outputId": "dccb9706-7990-4ae9-a6f4-15988a1b42ac"
      },
      "execution_count": null,
      "outputs": [
        {
          "output_type": "stream",
          "name": "stdout",
          "text": [
            "5==10:False\n",
            "5!=10:False\n",
            "5<10:True\n",
            "5>10:False\n",
            "5<=10:True\n",
            "5>10:False\n"
          ]
        }
      ]
    },
    {
      "cell_type": "markdown",
      "source": [
        "#**String Comparison**"
      ],
      "metadata": {
        "id": "z1qLPxkauClI"
      }
    },
    {
      "cell_type": "code",
      "source": [
        "name1=\"Alice\"\n",
        "name2=\"bob\"\n",
        "print(f\"{name1}<{name2}={name1<name2}\")"
      ],
      "metadata": {
        "colab": {
          "base_uri": "https://localhost:8080/"
        },
        "id": "Lv3b3O4EuH7o",
        "outputId": "dce499ac-9eb8-4c81-ea0b-07ef107f116f"
      },
      "execution_count": null,
      "outputs": [
        {
          "output_type": "stream",
          "name": "stdout",
          "text": [
            "Alice<bob=True\n"
          ]
        }
      ]
    },
    {
      "cell_type": "markdown",
      "source": [
        "#**Logical Operator**"
      ],
      "metadata": {
        "id": "JisUlK5DvmYQ"
      }
    },
    {
      "cell_type": "code",
      "source": [
        "p=True\n",
        "q=False\n",
        "print(f\"p and q: {p and q}\")#both must be true\n",
        "print(f\"p or q: {p or q}\")#atleast one must be true\n",
        "print(f\"not p:{not p}\")#opposite of p"
      ],
      "metadata": {
        "colab": {
          "base_uri": "https://localhost:8080/"
        },
        "id": "LCmpZYhsvq7o",
        "outputId": "032ac066-17e3-4e6d-b1db-598257848b42"
      },
      "execution_count": null,
      "outputs": [
        {
          "output_type": "stream",
          "name": "stdout",
          "text": [
            "p and q: False\n",
            "p or q: True\n",
            "not p:False\n"
          ]
        }
      ]
    },
    {
      "cell_type": "markdown",
      "source": [
        "#**Practical Example**"
      ],
      "metadata": {
        "id": "HxDgloHrwUew"
      }
    },
    {
      "cell_type": "code",
      "source": [
        "age=20\n",
        "has_licence=True\n",
        "can_drive=age>=18 and has_licence\n",
        "print(f\"can drive:{can_drive}\")"
      ],
      "metadata": {
        "colab": {
          "base_uri": "https://localhost:8080/"
        },
        "id": "3zVfkWG3woyY",
        "outputId": "324a05d3-357a-4a31-ecaa-32f9330bc614"
      },
      "execution_count": null,
      "outputs": [
        {
          "output_type": "stream",
          "name": "stdout",
          "text": [
            "can drive:True\n"
          ]
        }
      ]
    },
    {
      "cell_type": "code",
      "source": [
        "#multiple condition\n",
        "score=85\n",
        "is_present=True\n",
        "can_pass=score>=80 and is_present\n",
        "print(f\"can pass:{can_pass}\")"
      ],
      "metadata": {
        "colab": {
          "base_uri": "https://localhost:8080/"
        },
        "id": "315MulVYw77n",
        "outputId": "cc80fece-3354-4dae-ee1d-20471111dc80"
      },
      "execution_count": null,
      "outputs": [
        {
          "output_type": "stream",
          "name": "stdout",
          "text": [
            "can pass:True\n"
          ]
        }
      ]
    },
    {
      "cell_type": "markdown",
      "source": [
        "#**Hands on exercise**\n",
        "#**Exercise 2:Simple Calculator**\n",
        "create a calculator that checks if person qualifies for a loan"
      ],
      "metadata": {
        "id": "8l_kY1TAy8hI"
      }
    },
    {
      "cell_type": "code",
      "source": [
        "#personal information\n",
        "age=25\n",
        "annual_income=50000\n",
        "credit_score=720\n",
        "has_collateral=True"
      ],
      "metadata": {
        "id": "R8mVe_jJzU2g"
      },
      "execution_count": null,
      "outputs": []
    },
    {
      "cell_type": "code",
      "source": [
        "#loan criteria\n",
        "min_age=18\n",
        "min_income=30000\n",
        "min_credit_score=650"
      ],
      "metadata": {
        "id": "hTvBLPLlzlAX"
      },
      "execution_count": null,
      "outputs": []
    },
    {
      "cell_type": "code",
      "source": [
        "#check qualifications\n",
        "age_qualified=age>=min_age\n",
        "income_qualified=annual_income>=min_income\n",
        "credit_qualified=credit_score>=min_credit_score\n",
        "overall_qualified=age_qualified and income_qualified and credit_qualified"
      ],
      "metadata": {
        "id": "_1N8XHY33Ptg"
      },
      "execution_count": null,
      "outputs": []
    },
    {
      "cell_type": "markdown",
      "source": [
        "#**Data Structure**"
      ],
      "metadata": {
        "id": "gpDQ-ff8-4LY"
      }
    },
    {
      "cell_type": "markdown",
      "source": [
        "#**Lists**"
      ],
      "metadata": {
        "id": "tdxUAk67_AuQ"
      }
    },
    {
      "cell_type": "markdown",
      "source": [
        "#**Creating list**"
      ],
      "metadata": {
        "id": "2TBABosC_FcI"
      }
    },
    {
      "cell_type": "code",
      "source": [
        "fruits=[\"apple\",\"banana\",\"mango\",\"orange\"]\n",
        "numbers=[10,20,30,40]\n",
        "mixed_data=[1,\"hello\",3.14,True]"
      ],
      "metadata": {
        "id": "g_u2J2uz_K1w"
      },
      "execution_count": null,
      "outputs": []
    },
    {
      "cell_type": "markdown",
      "source": [
        "#**List indexing (0-based)**"
      ],
      "metadata": {
        "id": "oQJCODKI_cfg"
      }
    },
    {
      "cell_type": "code",
      "source": [
        "print(f\"first fruit:{fruits[0]}\")\n",
        "print(f\"last fruit:{fruits[-1]}\")\n",
        "print(f\"second to last:{fruits[-2]}\")"
      ],
      "metadata": {
        "colab": {
          "base_uri": "https://localhost:8080/"
        },
        "id": "LhXdoFw3_oEo",
        "outputId": "7ac3d03d-9207-49a2-fbfb-d5a4757d6104"
      },
      "execution_count": null,
      "outputs": [
        {
          "output_type": "stream",
          "name": "stdout",
          "text": [
            "first fruit:apple\n",
            "last fruit:orange\n",
            "second to last:mango\n"
          ]
        }
      ]
    },
    {
      "cell_type": "markdown",
      "source": [
        "#**List Slicing**"
      ],
      "metadata": {
        "id": "ID7g3YlSAAsA"
      }
    },
    {
      "cell_type": "code",
      "source": [
        "print(f\"First 2 fruits:{fruits[0:2]}\")\n",
        "print(f\"last 2 fruits:{fruits[-2:]}\")\n",
        "print(f\"all except first:{fruits[1:]}\")"
      ],
      "metadata": {
        "colab": {
          "base_uri": "https://localhost:8080/"
        },
        "id": "TsOkcJ5OAIHx",
        "outputId": "b35c5fe7-9e59-4d1c-a0bd-fd2cf6087681"
      },
      "execution_count": null,
      "outputs": [
        {
          "output_type": "stream",
          "name": "stdout",
          "text": [
            "First 2 fruits:['apple', 'banana']\n",
            "last 2 fruits:['mango', 'orange']\n",
            "all except first:['banana', 'mango', 'orange']\n"
          ]
        }
      ]
    },
    {
      "cell_type": "markdown",
      "source": [
        "#**List methods**"
      ],
      "metadata": {
        "id": "OZLr9bWiAtCx"
      }
    },
    {
      "cell_type": "code",
      "source": [
        "fruits.append(\"kiwi\")#add to end\n",
        "fruits.insert(1,\"strawberry\")#insert at index\n",
        "removed=fruits.pop()#remove last\n",
        "print(f\"updated list:{fruits}\")\n",
        "print(f\"Removed:{removed}\")"
      ],
      "metadata": {
        "colab": {
          "base_uri": "https://localhost:8080/"
        },
        "id": "a77TjF45A0Dp",
        "outputId": "fb6766e7-af9b-4e2b-efd3-092945ea084c"
      },
      "execution_count": null,
      "outputs": [
        {
          "output_type": "stream",
          "name": "stdout",
          "text": [
            "updated list:['apple', 'strawberry', 'banana', 'mango', 'orange']\n",
            "Removed:kiwi\n"
          ]
        }
      ]
    },
    {
      "cell_type": "markdown",
      "source": [
        "#**List operations**"
      ],
      "metadata": {
        "id": "3CCa_A9LCCpQ"
      }
    },
    {
      "cell_type": "code",
      "source": [
        "print(f\"Length:{len(fruits)}\")\n",
        "print(f\"contains 'apple':{'apple' in fruits}\")\n",
        "print(f\"Index of 'banana':{fruits.index('banana')}\")"
      ],
      "metadata": {
        "colab": {
          "base_uri": "https://localhost:8080/"
        },
        "id": "8uXEg3_lCKJY",
        "outputId": "1dd53035-b5d7-4ccc-bcae-d0c862585c38"
      },
      "execution_count": null,
      "outputs": [
        {
          "output_type": "stream",
          "name": "stdout",
          "text": [
            "Length:5\n",
            "contains 'apple':True\n",
            "Index of 'banana':2\n"
          ]
        }
      ]
    },
    {
      "cell_type": "markdown",
      "source": [
        "#**Tuple**"
      ],
      "metadata": {
        "id": "3uDNvvHUC9NY"
      }
    },
    {
      "cell_type": "markdown",
      "source": [
        "#**Tuples are immutable**"
      ],
      "metadata": {
        "id": "mYt_5oXEDLfQ"
      }
    },
    {
      "cell_type": "code",
      "source": [
        "coordinates=(10,20)\n",
        "rgb_color=(255,128,0)\n",
        "person_info=(\"Alice\",25,\"engineer\",True)"
      ],
      "metadata": {
        "id": "hFrg7448DWmQ"
      },
      "execution_count": null,
      "outputs": []
    },
    {
      "cell_type": "markdown",
      "source": [
        "#**Tuple Unpacking**"
      ],
      "metadata": {
        "id": "_YG2s4KlDs4Y"
      }
    },
    {
      "cell_type": "code",
      "source": [
        "x,y=coordinates\n",
        "print(f\"x:{x},y:{y}\")"
      ],
      "metadata": {
        "colab": {
          "base_uri": "https://localhost:8080/"
        },
        "id": "x88dsixFE2j5",
        "outputId": "30288bb3-2f99-4cb8-a0d0-6152f79865f1"
      },
      "execution_count": null,
      "outputs": [
        {
          "output_type": "stream",
          "name": "stdout",
          "text": [
            "x:10,y:20\n"
          ]
        }
      ]
    },
    {
      "cell_type": "markdown",
      "source": [
        "#**Tuple methods**"
      ],
      "metadata": {
        "id": "4rfera3aFITI"
      }
    },
    {
      "cell_type": "code",
      "source": [
        "print(f\"count of 25:{person_info.count(25)}\")\n",
        "print(f\"Index of 'engineer':{person_info.index('engineer')}\")"
      ],
      "metadata": {
        "colab": {
          "base_uri": "https://localhost:8080/"
        },
        "id": "_Wp-LZs9FMRw",
        "outputId": "3657f897-9f70-4e01-d051-ada6241823e9"
      },
      "execution_count": null,
      "outputs": [
        {
          "output_type": "stream",
          "name": "stdout",
          "text": [
            "count of 25:1\n",
            "Index of 'engineer':2\n"
          ]
        }
      ]
    },
    {
      "cell_type": "markdown",
      "source": [
        "Why Use tuples?\n",
        "\n",
        "\n",
        "* Immutable(safe for dictionary keys)\n",
        "\n",
        "\n",
        "*  slightly faster than list\n",
        "*   good for fixed collection\n",
        "\n",
        "\n",
        "\n",
        "\n"
      ],
      "metadata": {
        "id": "ql2hqAuAF2TW"
      }
    }
  ]
}